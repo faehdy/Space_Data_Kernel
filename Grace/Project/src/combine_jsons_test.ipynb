{
 "cells": [
  {
   "cell_type": "markdown",
   "id": "fabbecf6",
   "metadata": {},
   "source": [
    "## Trying to combine jsons of yukon and british columbia\n"
   ]
  },
  {
   "cell_type": "code",
   "execution_count": 4,
   "id": "2787d141",
   "metadata": {},
   "outputs": [
    {
     "name": "stdout",
     "output_type": "stream",
     "text": [
      "GeoJSON files combined successfully into 'combined_map.geojson'\n"
     ]
    }
   ],
   "source": [
    "import json\n",
    "\n",
    "# Load the GeoJSON files\n",
    "with open('../Data/britsh_columbia_no_holes.geojson', 'r') as bc_file:\n",
    "    bc_geojson = json.load(bc_file)\n",
    "\n",
    "with open('../Data/yukon_no_holes.geojson', 'r') as yukon_file:\n",
    "    yukon_geojson = json.load(yukon_file)\n",
    "\n",
    "# Combine the features of both GeoJSON files\n",
    "combined_geojson = {\n",
    "    \"type\": \"FeatureCollection\",\n",
    "    \"features\": bc_geojson['features'] + yukon_geojson['features']\n",
    "}\n",
    "\n",
    "# Save the combined GeoJSON to a new file\n",
    "with open('combined_map_yukon_bc.geojson', 'w') as combined_file:\n",
    "    json.dump(combined_geojson, combined_file)\n",
    "\n",
    "print(\"GeoJSON files combined successfully into 'combined_map.geojson'\")"
   ]
  },
  {
   "cell_type": "code",
   "execution_count": null,
   "id": "366dcbac",
   "metadata": {},
   "outputs": [],
   "source": []
  }
 ],
 "metadata": {
  "kernelspec": {
   "display_name": ".venv",
   "language": "python",
   "name": "python3"
  },
  "language_info": {
   "codemirror_mode": {
    "name": "ipython",
    "version": 3
   },
   "file_extension": ".py",
   "mimetype": "text/x-python",
   "name": "python",
   "nbconvert_exporter": "python",
   "pygments_lexer": "ipython3",
   "version": "3.9.6"
  }
 },
 "nbformat": 4,
 "nbformat_minor": 5
}
