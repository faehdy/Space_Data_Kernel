{
 "cells": [
  {
   "cell_type": "code",
   "execution_count": 1,
   "metadata": {},
   "outputs": [
    {
     "name": "stdout",
     "output_type": "stream",
     "text": [
      "Dataset information:\n",
      "<xarray.Dataset> Size: 29MB\n",
      "Dimensions:         (time: 1, lat: 720, lon: 1440)\n",
      "Coordinates:\n",
      "  * time            (time) datetime64[ns] 8B 2022-01-01\n",
      "  * lat             (lat) float64 6kB 89.88 89.62 89.38 ... -89.38 -89.62 -89.88\n",
      "  * lon             (lon) float64 12kB -179.9 -179.6 -179.4 ... 179.6 179.9\n",
      "Data variables:\n",
      "    sm              (time, lat, lon) float32 4MB ...\n",
      "    sm_uncertainty  (time, lat, lon) float32 4MB ...\n",
      "    flag            (time, lat, lon) float32 4MB ...\n",
      "    freqbandID      (time, lat, lon) int16 2MB ...\n",
      "    dnflag          (time, lat, lon) int8 1MB ...\n",
      "    mode            (time, lat, lon) int8 1MB ...\n",
      "    sensor          (time, lat, lon) int32 4MB ...\n",
      "    t0              (time, lat, lon) datetime64[ns] 8MB ...\n",
      "Attributes: (12/44)\n",
      "    title:                        ESA CCI Surface Soil Moisture merged PASSIV...\n",
      "    institution:                  TU Wien (AUT); VanderSat B.V. (NL); Planet ...\n",
      "    contact:                      cci_sm_contact@eodc.eu\n",
      "    source:                       LPRMv7/SMMR/Nimbus 7 L3 Surface Soil Moistu...\n",
      "    platform:                     Nimbus 7, DMSP, TRMM, AQUA, Coriolis, GCOM-...\n",
      "    processing_level:             Quality-controlled, super-collocated (L3S) ...\n",
      "    ...                           ...\n",
      "    geospatial_lon_units:         degrees_east\n",
      "    geospatial_lat_resolution:    0.25 degree\n",
      "    geospatial_lon_resolution:    0.25 degree\n",
      "    spatial_resolution:           25km\n",
      "    time_coverage_start:          20220101T000000Z\n",
      "    time_coverage_end:            20220101T235959Z\n"
     ]
    }
   ],
   "source": [
    "import xarray as xr\n",
    "import pandas as pd\n",
    "import numpy as np\n",
    "import matplotlib.pyplot as plt\n",
    "\n",
    "# Load the NetCDF file\n",
    "filepath = \"../Data/ESACCI-SOILMOISTURE-L3S-SSMV-PASSIVE-20220101000000-fv08.1.nc\"\n",
    "ds = xr.open_dataset(filepath)\n",
    "\n",
    "# Display basic information about the dataset\n",
    "print(\"Dataset information:\")\n",
    "print(ds)"
   ]
  },
  {
   "cell_type": "code",
   "execution_count": null,
   "metadata": {},
   "outputs": [
    {
     "name": "stdout",
     "output_type": "stream",
     "text": [
      "<xarray.DataArray 'sm' (time: 1, lat: 720, lon: 1440)> Size: 4MB\n",
      "[1036800 values with dtype=float32]\n",
      "Coordinates:\n",
      "  * time     (time) datetime64[ns] 8B 2022-01-01\n",
      "  * lat      (lat) float64 6kB 89.88 89.62 89.38 89.12 ... -89.38 -89.62 -89.88\n",
      "  * lon      (lon) float64 12kB -179.9 -179.6 -179.4 ... 179.4 179.6 179.9\n",
      "Attributes:\n",
      "    _CoordinateAxes:      time lat lon\n",
      "    ancillary_variables:  sm_uncertainty flag t0\n",
      "    dtype:                float32\n",
      "    long_name:            Volumetric Soil Moisture\n",
      "    units:                m3 m-3\n",
      "    valid_range:          [0. 1.]\n"
     ]
    }
   ],
   "source": [
    "print(ds.sm())"
   ]
  },
  {
   "cell_type": "code",
   "execution_count": null,
   "metadata": {},
   "outputs": [],
   "source": []
  }
 ],
 "metadata": {
  "kernelspec": {
   "display_name": ".venv",
   "language": "python",
   "name": "python3"
  },
  "language_info": {
   "codemirror_mode": {
    "name": "ipython",
    "version": 3
   },
   "file_extension": ".py",
   "mimetype": "text/x-python",
   "name": "python",
   "nbconvert_exporter": "python",
   "pygments_lexer": "ipython3",
   "version": "3.12.3"
  }
 },
 "nbformat": 4,
 "nbformat_minor": 2
}
