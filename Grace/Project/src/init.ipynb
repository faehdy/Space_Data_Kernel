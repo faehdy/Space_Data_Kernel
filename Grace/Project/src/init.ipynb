{
 "cells": [
  {
   "cell_type": "markdown",
   "metadata": {},
   "source": [
    "This file is a utility to download data from the Polybox into a local, specified data directory. The data is only downloaded if the data directory doesn't exist locally yet.\n",
    "\n",
    "If you submit one main jupyter notebook that reproduces results, you might want to add these cells at the beginning of it."
   ]
  },
  {
   "cell_type": "code",
   "execution_count": 1,
   "metadata": {},
   "outputs": [],
   "source": [
    "def install_and_import(package):\n",
    "    import importlib\n",
    "    try:\n",
    "        importlib.import_module(package)\n",
    "    except ImportError:\n",
    "        import pip\n",
    "        pip.main(['install', package])\n",
    "    finally:\n",
    "        globals()[package] = importlib.import_module(package)\n",
    "\n",
    "install_and_import('webdav4')\n",
    "\n",
    "from webdav4.client import Client\n",
    "import os\n",
    "import getpass\n",
    "\n",
    "def download_directory_webdav4(remote_path, local_path, client):\n",
    "    for obj in client.ls(remote_path):\n",
    "        p = obj['name']\n",
    "        if client.isfile(obj['name']):\n",
    "            # download file\n",
    "            local_file_path = os.path.join(local_path, p.split(\"/\")[-1])\n",
    "            print(f\"Downloading {p} to {local_file_path}\")\n",
    "            client.download_file(p, local_file_path)\n",
    "        elif client.isdir(p):\n",
    "            # download directory recursively\n",
    "            local_dir_path = os.path.join(local_path, p.split(\"/\")[-1])\n",
    "            os.makedirs(local_dir_path, exist_ok=True)\n",
    "            download_directory_webdav4(p, local_dir_path, client)\n",
    "\n",
    "def get_data(\n",
    "    local_data_dir,\n",
    "    group_name,\n",
    "):\n",
    "    \"\"\"\n",
    "    Downloads data from ETH Polybox to a local directory.\n",
    "    If the local_data_dir already exists, its contents will not be downloaded again.\n",
    "    \"\"\"\n",
    "    if os.path.exists(local_data_dir):\n",
    "        print(f\"Directory {local_data_dir} already exists.\")\n",
    "        print(\"If you want to re-download the data, please delete it.\")\n",
    "        return\n",
    "    \n",
    "    eth_usr = input(\"you eth username: \")\n",
    "    eth_pwd = getpass.getpass(\"your eth password: \")\n",
    "    polybox_path=f'/Shared/CC2_GRACE_Submission/{group_name}/'\n",
    "    url = f\"https://{eth_usr}@polybox.ethz.ch/remote.php/dav/files/{eth_usr}/\"\n",
    "    \n",
    "    client = Client(url, auth=(eth_usr, eth_pwd))\n",
    "    \n",
    "    assert client.exists(polybox_path), f\"Destination {polybox_path} does not exist\"\n",
    "\n",
    "    # print(client.ls(polybox_path))\n",
    "    os.makedirs(local_data_dir, exist_ok=True)\n",
    "    download_directory_webdav4(polybox_path, local_data_dir, client)"
   ]
  },
  {
   "cell_type": "markdown",
   "metadata": {},
   "source": [
    "Now, if you have not done so yet, edit the argument in below function call, then run the cell.\n",
    "\n",
    "You will be prompted to type in your eth credentials to access the Polybox."
   ]
  },
  {
   "cell_type": "code",
   "execution_count": null,
   "metadata": {},
   "outputs": [
    {
     "name": "stdout",
     "output_type": "stream",
     "text": [
      "Downloading Shared/CC2_GRACE_Submission/Group C/Fiere Data Readme.md to ../data/Fiere Data Readme.md\n",
      "Downloading Shared/CC2_GRACE_Submission/Group C/Firegrowth_groups_v1_01.csv to ../data/Firegrowth_groups_v1_01.csv\n",
      "Downloading Shared/CC2_GRACE_Submission/Group C/GLDAS_NOAH025_M.A200001.021.nc4 to ../data/GLDAS_NOAH025_M.A200001.021.nc4\n",
      "Downloading Shared/CC2_GRACE_Submission/Group C/GLDAS_NOAH025_M.A200002.021.nc4 to ../data/GLDAS_NOAH025_M.A200002.021.nc4\n",
      "Downloading Shared/CC2_GRACE_Submission/Group C/GLDAS_NOAH025_M.A200003.021.nc4 to ../data/GLDAS_NOAH025_M.A200003.021.nc4\n",
      "Downloading Shared/CC2_GRACE_Submission/Group C/GLDAS_NOAH025_M.A200004.021.nc4 to ../data/GLDAS_NOAH025_M.A200004.021.nc4\n",
      "Downloading Shared/CC2_GRACE_Submission/Group C/GLDAS_NOAH025_M.A200005.021.nc4 to ../data/GLDAS_NOAH025_M.A200005.021.nc4\n",
      "Downloading Shared/CC2_GRACE_Submission/Group C/GLDAS_NOAH025_M.A200006.021.nc4 to ../data/GLDAS_NOAH025_M.A200006.021.nc4\n",
      "Downloading Shared/CC2_GRACE_Submission/Group C/GLDAS_NOAH025_M.A200007.021.nc4 to ../data/GLDAS_NOAH025_M.A200007.021.nc4\n",
      "Downloading Shared/CC2_GRACE_Submission/Group C/GLDAS_NOAH025_M.A200008.021.nc4 to ../data/GLDAS_NOAH025_M.A200008.021.nc4\n",
      "Downloading Shared/CC2_GRACE_Submission/Group C/GLDAS_NOAH025_M.A200009.021.nc4 to ../data/GLDAS_NOAH025_M.A200009.021.nc4\n",
      "Downloading Shared/CC2_GRACE_Submission/Group C/GLDAS_NOAH025_M.A200010.021.nc4 to ../data/GLDAS_NOAH025_M.A200010.021.nc4\n",
      "Downloading Shared/CC2_GRACE_Submission/Group C/GLDAS_NOAH025_M.A200011.021.nc4 to ../data/GLDAS_NOAH025_M.A200011.021.nc4\n",
      "Downloading Shared/CC2_GRACE_Submission/Group C/GLDAS_NOAH025_M.A200012.021.nc4 to ../data/GLDAS_NOAH025_M.A200012.021.nc4\n",
      "Downloading Shared/CC2_GRACE_Submission/Group C/GLDAS_NOAH025_M.A200101.021.nc4 to ../data/GLDAS_NOAH025_M.A200101.021.nc4\n",
      "Downloading Shared/CC2_GRACE_Submission/Group C/GLDAS_NOAH025_M.A200102.021.nc4 to ../data/GLDAS_NOAH025_M.A200102.021.nc4\n",
      "Downloading Shared/CC2_GRACE_Submission/Group C/GLDAS_NOAH025_M.A200103.021.nc4 to ../data/GLDAS_NOAH025_M.A200103.021.nc4\n",
      "Downloading Shared/CC2_GRACE_Submission/Group C/GLDAS_NOAH025_M.A200104.021.nc4 to ../data/GLDAS_NOAH025_M.A200104.021.nc4\n",
      "Downloading Shared/CC2_GRACE_Submission/Group C/GLDAS_NOAH025_M.A200105.021.nc4 to ../data/GLDAS_NOAH025_M.A200105.021.nc4\n",
      "Downloading Shared/CC2_GRACE_Submission/Group C/GLDAS_NOAH025_M.A200106.021.nc4 to ../data/GLDAS_NOAH025_M.A200106.021.nc4\n",
      "Downloading Shared/CC2_GRACE_Submission/Group C/GLDAS_NOAH025_M.A200107.021.nc4 to ../data/GLDAS_NOAH025_M.A200107.021.nc4\n",
      "Downloading Shared/CC2_GRACE_Submission/Group C/GLDAS_NOAH025_M.A200108.021.nc4 to ../data/GLDAS_NOAH025_M.A200108.021.nc4\n",
      "Downloading Shared/CC2_GRACE_Submission/Group C/GLDAS_NOAH025_M.A200109.021.nc4 to ../data/GLDAS_NOAH025_M.A200109.021.nc4\n",
      "Downloading Shared/CC2_GRACE_Submission/Group C/GLDAS_NOAH025_M.A200110.021.nc4 to ../data/GLDAS_NOAH025_M.A200110.021.nc4\n",
      "Downloading Shared/CC2_GRACE_Submission/Group C/GLDAS_NOAH025_M.A200111.021.nc4 to ../data/GLDAS_NOAH025_M.A200111.021.nc4\n",
      "Downloading Shared/CC2_GRACE_Submission/Group C/GLDAS_NOAH025_M.A200112.021.nc4 to ../data/GLDAS_NOAH025_M.A200112.021.nc4\n",
      "Downloading Shared/CC2_GRACE_Submission/Group C/GLDAS_NOAH025_M.A200201.021.nc4 to ../data/GLDAS_NOAH025_M.A200201.021.nc4\n",
      "Downloading Shared/CC2_GRACE_Submission/Group C/GLDAS_NOAH025_M.A200202.021.nc4 to ../data/GLDAS_NOAH025_M.A200202.021.nc4\n",
      "Downloading Shared/CC2_GRACE_Submission/Group C/GLDAS_NOAH025_M.A200203.021.nc4 to ../data/GLDAS_NOAH025_M.A200203.021.nc4\n",
      "Downloading Shared/CC2_GRACE_Submission/Group C/GLDAS_NOAH025_M.A200204.021.nc4 to ../data/GLDAS_NOAH025_M.A200204.021.nc4\n",
      "Downloading Shared/CC2_GRACE_Submission/Group C/GLDAS_NOAH025_M.A200205.021.nc4 to ../data/GLDAS_NOAH025_M.A200205.021.nc4\n",
      "Downloading Shared/CC2_GRACE_Submission/Group C/GLDAS_NOAH025_M.A200206.021.nc4 to ../data/GLDAS_NOAH025_M.A200206.021.nc4\n",
      "Downloading Shared/CC2_GRACE_Submission/Group C/GLDAS_NOAH025_M.A200207.021.nc4 to ../data/GLDAS_NOAH025_M.A200207.021.nc4\n",
      "Downloading Shared/CC2_GRACE_Submission/Group C/GLDAS_NOAH025_M.A200208.021.nc4 to ../data/GLDAS_NOAH025_M.A200208.021.nc4\n",
      "Downloading Shared/CC2_GRACE_Submission/Group C/GLDAS_NOAH025_M.A200209.021.nc4 to ../data/GLDAS_NOAH025_M.A200209.021.nc4\n"
     ]
    }
   ],
   "source": [
    "get_data(\n",
    "    local_data_dir='../Data',\n",
    "    group_name='Group C',\n",
    ")"
   ]
  },
  {
   "cell_type": "code",
   "execution_count": null,
   "metadata": {},
   "outputs": [],
   "source": []
  }
 ],
 "metadata": {
  "kernelspec": {
   "display_name": ".venv",
   "language": "python",
   "name": "python3"
  },
  "language_info": {
   "codemirror_mode": {
    "name": "ipython",
    "version": 3
   },
   "file_extension": ".py",
   "mimetype": "text/x-python",
   "name": "python",
   "nbconvert_exporter": "python",
   "pygments_lexer": "ipython3",
   "version": "3.12.3"
  }
 },
 "nbformat": 4,
 "nbformat_minor": 2
}
