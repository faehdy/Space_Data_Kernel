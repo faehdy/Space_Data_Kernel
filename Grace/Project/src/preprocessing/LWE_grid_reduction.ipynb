{
 "cells": [
  {
   "cell_type": "code",
   "execution_count": null,
   "id": "8c3329e1",
   "metadata": {},
   "outputs": [
    {
     "name": "stdout",
     "output_type": "stream",
     "text": [
      "Variablen in der Datei:\n",
      "Fehler: Die Variable ''lwe_thickness'' wurde in der .nc-Datei nicht gefunden. Bitte überprüfe die Variablennamen.\n"
     ]
    }
   ],
   "source": [
    "import netCDF4\n",
    "import numpy as np\n",
    "import pandas as pd\n",
    "from scipy.interpolate import interp2d\n",
    "\n",
    "# Pfad zur deiner .nc-Datei\n",
    "nc_file_path = '../../Data/JPL_Mascons_Canada_Interpolated_linear_modes2-5.nc'\n",
    "\n",
    "# Name der Variablen, die die Maskendaten enthält (musst du eventuell anpassen)\n",
    "mask_var_name = \"lwe_thickness\"\n",
    "\n",
    "# Ziel-Grid-Dimensionen (5x5 Grad)\n",
    "target_lon_start = -141.0\n",
    "target_lon_end = -52.0\n",
    "target_lat_start = 41.0\n",
    "target_lat_end = 83.0\n",
    "n_lon_target = int((target_lon_end - target_lon_start) / 5) + 1\n",
    "n_lat_target = int((target_lat_end - target_lat_start) / 5) + 1\n",
    "\n",
    "# Dateiname für die Ausgabe-CSV-Datei\n",
    "output_csv_file = 'Mascons_Canada_grid_5x5.csv'\n",
    "\n",
    "try:\n",
    "    # .nc-Datei öffnen\n",
    "    with netCDF4.Dataset(nc_file_path, 'r') as nc_file:\n",
    "\n",
    "\n",
    "        # Lese die Maskendaten und die Koordinaten (Namen können variieren)\n",
    "        mask_data = nc_file.variables[mask_var_name][:]\n",
    "\n",
    "        # Annahme: Die Koordinaten sind 'lon' und 'lat'. Passe ggf. an.\n",
    "        original_lon = nc_file.variables['lon'][:]\n",
    "        original_lat = nc_file.variables['lat'][:]\n",
    "\n",
    "    # Erstelle das Ziel-Grid\n",
    "    target_lon = np.linspace(target_lon_start, target_lon_end, n_lon_target)\n",
    "    target_lat = np.linspace(target_lat_start, target_lat_end, n_lat_target)\n",
    "\n",
    "    # Erstelle eine 2D-Interpolationsfunktion (bilinear)\n",
    "    interpolate_function = interp2d(original_lon, original_lat, mask_data, kind='linear')\n",
    "\n",
    "    # Interpoliere die Daten auf das neue Grid\n",
    "    interpolated_data = interpolate_function(target_lon, target_lat)\n",
    "\n",
    "    # Erstelle einen Pandas DataFrame\n",
    "    df = pd.DataFrame(interpolated_data, index=target_lat, columns=target_lon)\n",
    "    df.index.name = 'latitude'\n",
    "    df.columns.name = 'longitude'\n",
    "\n",
    "    # Speichere den DataFrame als CSV-Datei\n",
    "    df.to_csv(output_csv_file)\n",
    "\n",
    "    print(f\"Die interpolierten Daten wurden erfolgreich in '{output_csv_file}' gespeichert.\")\n",
    "\n",
    "except FileNotFoundError:\n",
    "    print(f\"Fehler: Die Datei '{nc_file_path}' wurde nicht gefunden.\")\n",
    "except KeyError as e:\n",
    "    print(f\"Fehler: Die Variable '{e}' wurde in der .nc-Datei nicht gefunden. Bitte überprüfe die Variablennamen.\")\n",
    "except Exception as e:\n",
    "    print(f\"Ein unerwarteter Fehler ist aufgetreten: {e}\")"
   ]
  },
  {
   "cell_type": "code",
   "execution_count": null,
   "id": "ef2da54d",
   "metadata": {},
   "outputs": [],
   "source": []
  }
 ],
 "metadata": {
  "kernelspec": {
   "display_name": ".venv",
   "language": "python",
   "name": "python3"
  },
  "language_info": {
   "codemirror_mode": {
    "name": "ipython",
    "version": 3
   },
   "file_extension": ".py",
   "mimetype": "text/x-python",
   "name": "python",
   "nbconvert_exporter": "python",
   "pygments_lexer": "ipython3",
   "version": "3.12.3"
  }
 },
 "nbformat": 4,
 "nbformat_minor": 5
}
