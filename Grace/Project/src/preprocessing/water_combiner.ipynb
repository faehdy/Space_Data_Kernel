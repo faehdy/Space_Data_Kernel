{
 "cells": [
  {
   "cell_type": "code",
   "execution_count": 2,
   "id": "f0639ba4",
   "metadata": {},
   "outputs": [],
   "source": [
    "import pandas as pd\n",
    "import numpy as np\n",
    "import geopandas as gpd\n"
   ]
  },
  {
   "cell_type": "code",
   "execution_count": 3,
   "id": "f3b12ffe",
   "metadata": {},
   "outputs": [],
   "source": [
    "df = pd.read_csv('../Data/data_GLDAS/compiled_canada_soil_moisture.csv')"
   ]
  },
  {
   "cell_type": "code",
   "execution_count": 4,
   "id": "e93928fe",
   "metadata": {},
   "outputs": [
    {
     "data": {
      "text/plain": [
       "Index(['time', 'lat', 'lon', 'SoilMoi0_10cm_inst', 'SoilMoi10_40cm_inst',\n",
       "       'SoilMoi40_100cm_inst', 'SoilMoi100_200cm_inst'],\n",
       "      dtype='object')"
      ]
     },
     "execution_count": 4,
     "metadata": {},
     "output_type": "execute_result"
    }
   ],
   "source": [
    "df.columns"
   ]
  },
  {
   "cell_type": "code",
   "execution_count": 5,
   "id": "cfd31bdb",
   "metadata": {},
   "outputs": [],
   "source": [
    "df = df.drop(['SoilMoi10_40cm_inst', 'SoilMoi40_100cm_inst', 'SoilMoi100_200cm_inst'], axis = 1)\n",
    "#rename the column 'SoilMoi0_10cm_inst' to 'waterstorage'\n",
    "df = df.rename(columns={'SoilMoi0_10cm_inst': 'waterstorage'})\n",
    "gdf = gpd.GeoDataFrame(df, geometry=gpd.points_from_xy(df['lon'], df['lat']))\n",
    "gdf = gdf.set_crs(epsg=4326, inplace=True)\n",
    "\n",
    "gdf.to_parquet('../Data/data_GLDAS/gdf_compiled_canada_soil_moisture.parquet', index=False)"
   ]
  },
  {
   "cell_type": "code",
   "execution_count": null,
   "id": "3f7f814b",
   "metadata": {},
   "outputs": [],
   "source": []
  }
 ],
 "metadata": {
  "kernelspec": {
   "display_name": ".venv",
   "language": "python",
   "name": "python3"
  },
  "language_info": {
   "codemirror_mode": {
    "name": "ipython",
    "version": 3
   },
   "file_extension": ".py",
   "mimetype": "text/x-python",
   "name": "python",
   "nbconvert_exporter": "python",
   "pygments_lexer": "ipython3",
   "version": "3.12.3"
  }
 },
 "nbformat": 4,
 "nbformat_minor": 5
}
