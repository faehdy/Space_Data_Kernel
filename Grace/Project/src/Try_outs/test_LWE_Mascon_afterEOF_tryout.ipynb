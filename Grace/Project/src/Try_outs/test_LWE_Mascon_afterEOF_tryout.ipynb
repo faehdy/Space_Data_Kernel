# Grace/Project/src/Try_outs/test_LWE_Mascon_afterEOF_tryout.ipynb

{
 "cells": [
    {
     "cell_type": "code",
     "metadata": {},
     "source": [
        "import numpy as np\n",
        "import pandas as pd\n",
        "from sklearn.decomposition import PCA\n",
        "from Grace.Project.src.Try_outs.LWE_Mascon_afterEOF_tryout import Convert_2002_2_DMJ\n",
        "\n",
        "# Test EOF Analysis\n",
        "def test_eof_analysis():\n",
        "    np.random.seed(42)\n",
        "    data = np.random.rand(100, 50)  # Simulated data\n",
        "    data_centered = data - np.mean(data, axis=0)\n",
        "    pca = PCA()\n",
        "    pca.fit(data_centered)\n",
        "    cumulative_variance = np.cumsum(pca.explained_variance_ratio_)\n",
        "    num_modes = np.argmax(cumulative_variance > 0.9) + 1\n",
        "    assert num_modes > 0, \"Failed to identify EOF modes explaining >90% variance\"\n",
        "\n",
        "# Test Gap Identification\n",
        "def test_gap_identification():\n",
        "    time_dates = pd.date_range(start=\"2002-04-01\", periods=100, freq=\"M\")\n",
        "    time_dates = time_dates.delete([10, 20, 30])  # Simulate gaps\n",
        "    time_df = pd.DataFrame({'time': time_dates})\n",
        "    time_df['month_diff'] = time_df['time'].diff().dt.days\n",
        "    gaps = time_df[time_df['month_diff'] > 45]\n",
        "    assert len(gaps) == 3, \"Failed to identify gaps in the data\"\n",
        "\n",
        "# Test Interpolation of PCs\n",
        "def test_interpolation_of_pcs():\n",
        "    time_index = pd.date_range(start=\"2002-04-01\", periods=100, freq=\"M\")\n",
        "    time_index_missing = time_index.delete([10, 20, 30])\n",
        "    pcs = np.random.rand(len(time_index_missing), 5)  # Simulated PCs\n",
        "    pcs_df = pd.DataFrame(pcs, index=time_index_missing)\n",
        "    pcs_interpolated = pcs_df.reindex(time_index).interpolate()\n",
        "    assert not pcs_interpolated.isnull().values.any(), \"Failed to interpolate PCs\"\n",
        "\n",
        "# Test Data Reconstruction\n",
        "def test_data_reconstruction():\n",
        "    eof_modes = np.random.rand(5, 50)  # Simulated EOFs\n",
        "    pcs_interpolated = np.random.rand(100, 5)  # Simulated interpolated PCs\n",
        "    reconstructed_data = np.dot(pcs_interpolated, eof_modes)\n",
        "    assert reconstructed_data.shape == (100, 50), \"Failed to reconstruct data\"\n",
        "\n",
        "# Test Data Combination\n",
        "def test_data_combination():\n",
        "    original_data = np.random.rand(80, 50)  # Simulated original data\n",
        "    interpolated_data = np.random.rand(20, 50)  # Simulated interpolated data\n",
        "    combined_data = np.vstack((original_data, interpolated_data))\n",
        "    assert combined_data.shape == (100, 50), \"Failed to combine original and interpolated data\"\n",
        "\n",
        "# Run Tests\n",
        "test_eof_analysis()\n",
        "test_gap_identification()\n",
        "test_interpolation_of_pcs()\n",
        "test_data_reconstruction()\n",
        "test_data_combination()\n",
        "print(\"All tests passed!\")"
     ]
    }
 ],
 "metadata": {
    "kernelspec": {
     "display_name": "Python 3",
     "language": "python",
     "name": "python3"
    },
    "language_info": {
     "codemirror_mode": {
        "name": "ipython",
        "version": 3
     },
     "file_extension": ".py",
     "mimetype": "text/x-python",
     "name": "python",
     "nbconvert_exporter": "python",
     "pygments_lexer": "ipython3",
     "version": "3.9.6"
    }
 },
 "nbformat": 4,
 "nbformat_minor": 5
}