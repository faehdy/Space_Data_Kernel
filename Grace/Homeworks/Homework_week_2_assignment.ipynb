{
 "cells": [
  {
   "cell_type": "markdown",
   "id": "1c2760d0-3b24-4869-9651-81f8c6170680",
   "metadata": {},
   "source": [
    "---\n",
    "title: Week 2 - PCA (principal component analysis) for GRACE and GRACE-FO mascon data\n",
    "subtitle: Perform signal separation of GRACE data with PCA and EOF (empirical orthogonal function) analysis\n",
    "authors:\n",
    "  - name: Katrin Bentel (katrin.bentel@ethz.ch)\n",
    "---"
   ]
  },
  {
   "cell_type": "markdown",
   "id": "ddb00b7b-101c-4be0-b0f5-f6849e4ff11e",
   "metadata": {},
   "source": [
    ":::{important} Learning Goals &#9971;\n",
    "- [ ] I can prepare the GRACE/GRACE-FO (or any other) data set for PCA/EOF analysis (centered data matrix)\n",
    "- [ ] I can perform PCA/EOF analysis in Python\n",
    "- [ ] I can explain the equations behind PCA\n",
    "- [ ] I can plot the results\n",
    "- [ ] I can interpret the results (EOF patterns, PC time series, and variance expressed)\n",
    "- [ ] I can perform simple selection techniques for the dominant modes and explain more rigorous approaches\n",
    "- [ ] I can reconstruct the data and explain the benefits of PCA/EOF analysis\n",
    "- [ ] I can handle gaps in the data appropriately\n",
    ":::"
   ]
  },
  {
   "cell_type": "markdown",
   "id": "d9a90183-78d9-4408-90e8-1587ef7e4b57",
   "metadata": {},
   "source": [
    ":::{attention} Questions\n",
    "Don't hesitate to ask any question that might be coming up. If you think your question could be relevant to others as well, please post it in the [**Moodle forum**](https://moodle-app2.let.ethz.ch/mod/forum/view.php?id=1187440). Or you can just contact me by email."
   ]
  },
  {
   "cell_type": "markdown",
   "id": "4730dde9-c5af-4809-aae2-0ac154ce880f",
   "metadata": {},
   "source": [
    "____\n",
    "\n",
    "## Table of Contents\n",
    "#### [](#h-prepare-data)\n",
    "\n",
    "#### [](#h-PCA-global)\n",
    "\n",
    "#### [](#h-data-reconstruction)\n",
    "\n",
    "#### [](#h-gaps)\n",
    "\n",
    "#### [](#h-regional)\n",
    "\n",
    "#### [](#h-outlook-feedback)\n"
   ]
  },
  {
   "cell_type": "markdown",
   "id": "4965afbd-ab17-4947-a1af-74cb1cd8d347",
   "metadata": {},
   "source": [
    "_____\n",
    "\n",
    "(h-prepare-data)=\n",
    "# 1. Get and prepare GRACE data\n",
    "\n",
    ":::{tip} _Exercise 1:_ Load the GRACE and GRACE-FO mascon data set RL06.3_v04 from JPL and prepare the data for PCA/EOF analysis.\n",
    "- The required data is  the same data set as the one we worked with last week. It is called `GRCTellus.JPL.200204_202411.GLO.RL06.3M.MSCNv04CRI.nc`. Please refer to the routines from last week to get the data ready. To load the data, adjust the file path so that you can use last weeks data which is stored in the data folder.\n",
    "\n",
    "- The data has to be arranged in a rectangular matrix, with time along the first dimension and location along the second dimension. Each monthly field should be in a row and each column represents the time series for one pixel. Please also refer to the slides.\n",
    "\n",
    "- The data has to be centered, it needs to be true anomalies. Therefore, remove the time mean from each grid location\n",
    ":::"
   ]
  },
  {
   "cell_type": "markdown",
   "id": "3c6e88b7-5732-4a38-ae27-f42147a74f6e",
   "metadata": {},
   "source": [
    "#### &#128187; Coding starts here\n",
    "\n",
    "The first code cell loads the Python libraries and you can continue with your code by adding more cells below."
   ]
  },
  {
   "cell_type": "code",
   "execution_count": 1,
   "id": "b32c029d-d861-4b59-9bc1-4f1ca6cb9f0d",
   "metadata": {},
   "outputs": [],
   "source": [
    "# reads the .nc and .nc4 files\n",
    "import netCDF4 as nc # library for working with NetCDF files, this is for large datasets\n",
    "# miscellaneous operating system interfaces\n",
    "import os # helps with file handling\n",
    "\n",
    "# visualizes the data\n",
    "import matplotlib.pyplot as plt \n",
    "import matplotlib.dates as mdates\n",
    "\n",
    "#processes the data\n",
    "import numpy as np #helps with numerical calculations\n",
    "import pandas as pd\n",
    "\n",
    "# helps visualize the data\n",
    "import cartopy.crs as ccrs \n",
    "from cartopy.mpl.geoaxes import GeoAxes\n",
    "\n",
    "from datetime import datetime # helps with handling dates and times\n",
    "\n",
    "from sklearn.decomposition import PCA\n",
    "\n",
    "from netCDF4 import num2date # converts the time variable ni the NetCDF into actual human.readable dates"
   ]
  },
  {
   "cell_type": "code",
   "execution_count": 2,
   "id": "b9befa4d-9c19-4884-b83b-d0fd4b087eaa",
   "metadata": {},
   "outputs": [],
   "source": [
    "# LOAD DATA\n",
    "file_path = '../homework1/data/GRCTellus.JPL.200204_202411.GLO.RL06.3M.MSCNv04CRI.nc'\n",
    "\n",
    "# Check if the file exists\n",
    "if os.path.exists(file_path):\n",
    "    mascons = nc.Dataset(file_path)\n",
    "else:\n",
    "    raise FileNotFoundError(f\"File not found: {file_path}\")\n",
    "\n",
    "# short alternative, without checking the file path:\n",
    "mascons = nc.Dataset('../homework1/data/GRCTellus.JPL.200204_202411.GLO.RL06.3M.MSCNv04CRI.nc')"
   ]
  },
  {
   "cell_type": "code",
   "execution_count": 46,
   "id": "fa6125d8-460f-42a4-bf73-ae1b1e634f03",
   "metadata": {},
   "outputs": [
    {
     "name": "stdout",
     "output_type": "stream",
     "text": [
      "data centered data shape: (259200, 239)\n",
      "Unique Years in Data: [2002 2003 2004 2005 2006 2007 2008 2009 2010 2011 2012 2013 2014 2015\n",
      " 2016 2017 2018 2019 2020 2021 2022 2023 2024]\n",
      "Unique Months in Data: [ 1  2  3  4  5  6  7  8  9 10 11 12]\n"
     ]
    }
   ],
   "source": [
    "# ARRANGING DATA TASK\n",
    "\n",
    "# Extract relevant variables\n",
    "time = mascons.variables['time'][:]\n",
    "latitude = mascons.variables['lat'][:]\n",
    "longitude = mascons.variables['lon'][:]\n",
    "lwe_thickness = mascons.variables['lwe_thickness'][:]  # Example variable (adjust if needed)\n",
    "\n",
    "#print(f'this is the time: {time}')\n",
    "#print(f'this is the latitude: {latitude}')\n",
    "#print(f'this is the longitude: {longitude}')\n",
    "#print(f'this is the lwe_thickness: {latitude}')\n",
    "\n",
    "# Reshape data \n",
    "# Convert time to datetime objects\n",
    "time_units = mascons.variables['time'].units  # Get time units\n",
    "calendar = mascons.variables['time'].calendar  # Get calendar type (if available)\n",
    "# num2date function num2date(input of time that needs to be converted, unit that is wished, converts it)\n",
    "dates = num2date(time, units=time_units, calendar=calendar)  # Convert time to datetime objects\n",
    "\n",
    "# Extract year and month from dates\n",
    "time_years = np.array([date.year for date in dates])\n",
    "time_months = np.array([date.month for date in dates])\n",
    "\n",
    "# Reshape data\n",
    "num_time_steps = data_variable.shape[0]  # Time dimension\n",
    "num_lat = data_variable.shape[1]  # Latitude dimension\n",
    "num_lon = data_variable.shape[2]  # Longitude dimension\n",
    "\n",
    "# Flatten spatial dimensions\n",
    "reshaped_data = data_variable.reshape(num_time_steps, num_lat * num_lon)\n",
    "\n",
    "# Transpose to match the required format (each row = pixel, each column = time series)\n",
    "reshaped_data = reshaped_data.T\n",
    "\n",
    "# Remove time mean to compute anomalies (centering the data)\n",
    "time_mean = np.mean(reshaped_data, axis=1, keepdims=True)  # Compute mean for each location (row-wise)\n",
    "data_centered = reshaped_data - time_mean  # Subtract mean from each time series\n",
    "\n",
    "# Print shape for verification\n",
    "print(\"data centered data shape:\", anomalies.shape)  # Expected: (num_lat * num_lon, num_time_steps)\n",
    "print(\"Unique Years in Data:\", np.unique(time_years))\n",
    "print(\"Unique Months in Data:\", np.unique(time_months))\n"
   ]
  },
  {
   "cell_type": "code",
   "execution_count": 37,
   "id": "a29984aa-4577-4d80-a093-46ed67c04bcb",
   "metadata": {},
   "outputs": [
    {
     "name": "stdout",
     "output_type": "stream",
     "text": [
      "239\n",
      "360\n",
      "720\n"
     ]
    }
   ],
   "source": [
    "#try something\n",
    "print(num_time_steps)\n",
    "print(num_lat)\n",
    "print(num_lon)"
   ]
  },
  {
   "cell_type": "markdown",
   "id": "5e52cea2-ac0a-4069-ac8f-d892f0162559",
   "metadata": {},
   "source": [
    ":::{hint} On Jupyternaut or your favourite chatbot &#9756;\n",
    ":class: dropdown\n",
    "- You may work with a chatbot also in this exercise. In case you used Jupyternaut with the provided configuration, this configuration is still set in Jupyternaut and you can continue to use it. \n",
    "- Everything that was mentioned about good practise and the use of a LLM (large language model) in the last homework still holds, and please keep in mind that it is crucially important to understand all the code that you use in your notebook (if you don't understand some code in detail, ask your chatbot and **test** the functionality).\n",
    "- Since today's exercises are less plotting-focussed, the support you can get from a chatbot might be bit different to last week.\n",
    ":::"
   ]
  },
  {
   "cell_type": "markdown",
   "id": "7f13cce4-5165-429c-9fea-304b6bd475b2",
   "metadata": {},
   "source": [
    "_____\n",
    "\n",
    "(h-PCA-global)=\n",
    "# 2. Perform EOF analysis of the entire data set"
   ]
  },
  {
   "cell_type": "markdown",
   "id": "c7a97c53-06bc-4648-b601-6141d8c8021a",
   "metadata": {},
   "source": [
    ":::{tip} _Exercise 2:_ Perform EOF analysis\n",
    "Take the data matrix which you just prepared in exercise 1 and do EOF analysis of this data with the routines from `sklearn`. The required packages have already been imported above. Please refer to PCA demo example notebook where the routines are used on synthetic data. Add your code cells below.\n",
    ":::"
   ]
  },
  {
   "cell_type": "markdown",
   "id": "56080773-df8b-4c6a-9990-a14d556a6699",
   "metadata": {},
   "source": [
    "#### DOING AN EOF ANALYSIS ON THE DATA\n"
   ]
  },
  {
   "cell_type": "code",
   "execution_count": 47,
   "id": "f5de2fd9-3b63-40ae-9d78-c44283f151ca",
   "metadata": {},
   "outputs": [],
   "source": [
    "# Apply EOF (PCA) analysis\n",
    "pca = PCA(n_components=5)  # Extract first 5 EOFs\n",
    "pca.fit(data_centered)\n",
    "transformed_data = pca.transform(data_centered)\n",
    "explained_variance = pca.explained_variance_ratio_  # Get explained variance for each mode\n"
   ]
  },
  {
   "cell_type": "markdown",
   "id": "ed7d6996-72ec-49e6-b78f-dd2a533c945e",
   "metadata": {},
   "source": [
    ":::{tip} _Exercise 3:_ Plot the first few modes\n",
    "Now it is time to reuse you routines from last week to plot maps and time series. For the first few modes, plot the EOF patterns the PC time series and the explained variance value. Arrange plots next to each other to get a better overview of your results.\n",
    ":::\n"
   ]
  },
  {
   "cell_type": "code",
   "execution_count": 53,
   "id": "b9a759c3-c419-43dc-8bca-68a1d546dda2",
   "metadata": {},
   "outputs": [
    {
     "ename": "SyntaxError",
     "evalue": "incomplete input (3456576411.py, line 2)",
     "output_type": "error",
     "traceback": [
      "\u001b[0;36m  Cell \u001b[0;32mIn[53], line 2\u001b[0;36m\u001b[0m\n\u001b[0;31m    print(len(data_centered[1])\u001b[0m\n\u001b[0m                               ^\u001b[0m\n\u001b[0;31mSyntaxError\u001b[0m\u001b[0;31m:\u001b[0m incomplete input\n"
     ]
    }
   ],
   "source": [
    "print(len(data_centered[0]))\n",
    "print(len(data_centered[1])"
   ]
  },
  {
   "cell_type": "code",
   "execution_count": 55,
   "id": "61fff436-de7b-40ca-95b7-fbb6f3955b09",
   "metadata": {},
   "outputs": [
    {
     "ename": "TypeError",
     "evalue": "Invalid shape (239,) for image data",
     "output_type": "error",
     "traceback": [
      "\u001b[0;31m---------------------------------------------------------------------------\u001b[0m",
      "\u001b[0;31mTypeError\u001b[0m                                 Traceback (most recent call last)",
      "Cell \u001b[0;32mIn[55], line 7\u001b[0m\n\u001b[1;32m      4\u001b[0m \u001b[38;5;28;01mfor\u001b[39;00m i \u001b[38;5;129;01min\u001b[39;00m \u001b[38;5;28mrange\u001b[39m(\u001b[38;5;241m3\u001b[39m):  \u001b[38;5;66;03m# Plot first 3 EOFs and their time series\u001b[39;00m\n\u001b[1;32m      5\u001b[0m     \u001b[38;5;66;03m# EOF spatial pattern\u001b[39;00m\n\u001b[1;32m      6\u001b[0m     eof_pattern \u001b[38;5;241m=\u001b[39m pca\u001b[38;5;241m.\u001b[39mcomponents_[i]\u001b[38;5;241m.\u001b[39mreshape(\u001b[38;5;28mlen\u001b[39m(data_centered[\u001b[38;5;241m0\u001b[39m]))\n\u001b[0;32m----> 7\u001b[0m     im \u001b[38;5;241m=\u001b[39m \u001b[43maxes\u001b[49m\u001b[43m[\u001b[49m\u001b[43mi\u001b[49m\u001b[43m,\u001b[49m\u001b[43m \u001b[49m\u001b[38;5;241;43m0\u001b[39;49m\u001b[43m]\u001b[49m\u001b[38;5;241;43m.\u001b[39;49m\u001b[43mimshow\u001b[49m\u001b[43m(\u001b[49m\u001b[43meof_pattern\u001b[49m\u001b[43m,\u001b[49m\u001b[43m \u001b[49m\u001b[43mcmap\u001b[49m\u001b[38;5;241;43m=\u001b[39;49m\u001b[38;5;124;43m'\u001b[39;49m\u001b[38;5;124;43mRdBu_r\u001b[39;49m\u001b[38;5;124;43m'\u001b[39;49m\u001b[43m)\u001b[49m\n\u001b[1;32m      8\u001b[0m     axes[i, \u001b[38;5;241m0\u001b[39m]\u001b[38;5;241m.\u001b[39mset_title(\u001b[38;5;124mf\u001b[39m\u001b[38;5;124m'\u001b[39m\u001b[38;5;124mEOF \u001b[39m\u001b[38;5;132;01m{\u001b[39;00mi\u001b[38;5;241m+\u001b[39m\u001b[38;5;241m1\u001b[39m\u001b[38;5;132;01m}\u001b[39;00m\u001b[38;5;124m (\u001b[39m\u001b[38;5;132;01m{\u001b[39;00mexplained_variance[i]\u001b[38;5;241m*\u001b[39m\u001b[38;5;241m100\u001b[39m\u001b[38;5;132;01m:\u001b[39;00m\u001b[38;5;124m.2f\u001b[39m\u001b[38;5;132;01m}\u001b[39;00m\u001b[38;5;124m% variance)\u001b[39m\u001b[38;5;124m'\u001b[39m)\n\u001b[1;32m      9\u001b[0m     fig\u001b[38;5;241m.\u001b[39mcolorbar(im, ax\u001b[38;5;241m=\u001b[39maxes[i, \u001b[38;5;241m0\u001b[39m])\n",
      "File \u001b[0;32m/opt/conda/lib/python3.12/site-packages/matplotlib/__init__.py:1521\u001b[0m, in \u001b[0;36m_preprocess_data.<locals>.inner\u001b[0;34m(ax, data, *args, **kwargs)\u001b[0m\n\u001b[1;32m   1518\u001b[0m \u001b[38;5;129m@functools\u001b[39m\u001b[38;5;241m.\u001b[39mwraps(func)\n\u001b[1;32m   1519\u001b[0m \u001b[38;5;28;01mdef\u001b[39;00m\u001b[38;5;250m \u001b[39m\u001b[38;5;21minner\u001b[39m(ax, \u001b[38;5;241m*\u001b[39margs, data\u001b[38;5;241m=\u001b[39m\u001b[38;5;28;01mNone\u001b[39;00m, \u001b[38;5;241m*\u001b[39m\u001b[38;5;241m*\u001b[39mkwargs):\n\u001b[1;32m   1520\u001b[0m     \u001b[38;5;28;01mif\u001b[39;00m data \u001b[38;5;129;01mis\u001b[39;00m \u001b[38;5;28;01mNone\u001b[39;00m:\n\u001b[0;32m-> 1521\u001b[0m         \u001b[38;5;28;01mreturn\u001b[39;00m \u001b[43mfunc\u001b[49m\u001b[43m(\u001b[49m\n\u001b[1;32m   1522\u001b[0m \u001b[43m            \u001b[49m\u001b[43max\u001b[49m\u001b[43m,\u001b[49m\n\u001b[1;32m   1523\u001b[0m \u001b[43m            \u001b[49m\u001b[38;5;241;43m*\u001b[39;49m\u001b[38;5;28;43mmap\u001b[39;49m\u001b[43m(\u001b[49m\u001b[43mcbook\u001b[49m\u001b[38;5;241;43m.\u001b[39;49m\u001b[43msanitize_sequence\u001b[49m\u001b[43m,\u001b[49m\u001b[43m \u001b[49m\u001b[43margs\u001b[49m\u001b[43m)\u001b[49m\u001b[43m,\u001b[49m\n\u001b[1;32m   1524\u001b[0m \u001b[43m            \u001b[49m\u001b[38;5;241;43m*\u001b[39;49m\u001b[38;5;241;43m*\u001b[39;49m\u001b[43m{\u001b[49m\u001b[43mk\u001b[49m\u001b[43m:\u001b[49m\u001b[43m \u001b[49m\u001b[43mcbook\u001b[49m\u001b[38;5;241;43m.\u001b[39;49m\u001b[43msanitize_sequence\u001b[49m\u001b[43m(\u001b[49m\u001b[43mv\u001b[49m\u001b[43m)\u001b[49m\u001b[43m \u001b[49m\u001b[38;5;28;43;01mfor\u001b[39;49;00m\u001b[43m \u001b[49m\u001b[43mk\u001b[49m\u001b[43m,\u001b[49m\u001b[43m \u001b[49m\u001b[43mv\u001b[49m\u001b[43m \u001b[49m\u001b[38;5;129;43;01min\u001b[39;49;00m\u001b[43m \u001b[49m\u001b[43mkwargs\u001b[49m\u001b[38;5;241;43m.\u001b[39;49m\u001b[43mitems\u001b[49m\u001b[43m(\u001b[49m\u001b[43m)\u001b[49m\u001b[43m}\u001b[49m\u001b[43m)\u001b[49m\n\u001b[1;32m   1526\u001b[0m     bound \u001b[38;5;241m=\u001b[39m new_sig\u001b[38;5;241m.\u001b[39mbind(ax, \u001b[38;5;241m*\u001b[39margs, \u001b[38;5;241m*\u001b[39m\u001b[38;5;241m*\u001b[39mkwargs)\n\u001b[1;32m   1527\u001b[0m     auto_label \u001b[38;5;241m=\u001b[39m (bound\u001b[38;5;241m.\u001b[39marguments\u001b[38;5;241m.\u001b[39mget(label_namer)\n\u001b[1;32m   1528\u001b[0m                   \u001b[38;5;129;01mor\u001b[39;00m bound\u001b[38;5;241m.\u001b[39mkwargs\u001b[38;5;241m.\u001b[39mget(label_namer))\n",
      "File \u001b[0;32m/opt/conda/lib/python3.12/site-packages/matplotlib/axes/_axes.py:5945\u001b[0m, in \u001b[0;36mAxes.imshow\u001b[0;34m(self, X, cmap, norm, aspect, interpolation, alpha, vmin, vmax, colorizer, origin, extent, interpolation_stage, filternorm, filterrad, resample, url, **kwargs)\u001b[0m\n\u001b[1;32m   5942\u001b[0m \u001b[38;5;28;01mif\u001b[39;00m aspect \u001b[38;5;129;01mis\u001b[39;00m \u001b[38;5;129;01mnot\u001b[39;00m \u001b[38;5;28;01mNone\u001b[39;00m:\n\u001b[1;32m   5943\u001b[0m     \u001b[38;5;28mself\u001b[39m\u001b[38;5;241m.\u001b[39mset_aspect(aspect)\n\u001b[0;32m-> 5945\u001b[0m \u001b[43mim\u001b[49m\u001b[38;5;241;43m.\u001b[39;49m\u001b[43mset_data\u001b[49m\u001b[43m(\u001b[49m\u001b[43mX\u001b[49m\u001b[43m)\u001b[49m\n\u001b[1;32m   5946\u001b[0m im\u001b[38;5;241m.\u001b[39mset_alpha(alpha)\n\u001b[1;32m   5947\u001b[0m \u001b[38;5;28;01mif\u001b[39;00m im\u001b[38;5;241m.\u001b[39mget_clip_path() \u001b[38;5;129;01mis\u001b[39;00m \u001b[38;5;28;01mNone\u001b[39;00m:\n\u001b[1;32m   5948\u001b[0m     \u001b[38;5;66;03m# image does not already have clipping set, clip to Axes patch\u001b[39;00m\n",
      "File \u001b[0;32m/opt/conda/lib/python3.12/site-packages/matplotlib/image.py:675\u001b[0m, in \u001b[0;36m_ImageBase.set_data\u001b[0;34m(self, A)\u001b[0m\n\u001b[1;32m    673\u001b[0m \u001b[38;5;28;01mif\u001b[39;00m \u001b[38;5;28misinstance\u001b[39m(A, PIL\u001b[38;5;241m.\u001b[39mImage\u001b[38;5;241m.\u001b[39mImage):\n\u001b[1;32m    674\u001b[0m     A \u001b[38;5;241m=\u001b[39m pil_to_array(A)  \u001b[38;5;66;03m# Needed e.g. to apply png palette.\u001b[39;00m\n\u001b[0;32m--> 675\u001b[0m \u001b[38;5;28mself\u001b[39m\u001b[38;5;241m.\u001b[39m_A \u001b[38;5;241m=\u001b[39m \u001b[38;5;28;43mself\u001b[39;49m\u001b[38;5;241;43m.\u001b[39;49m\u001b[43m_normalize_image_array\u001b[49m\u001b[43m(\u001b[49m\u001b[43mA\u001b[49m\u001b[43m)\u001b[49m\n\u001b[1;32m    676\u001b[0m \u001b[38;5;28mself\u001b[39m\u001b[38;5;241m.\u001b[39m_imcache \u001b[38;5;241m=\u001b[39m \u001b[38;5;28;01mNone\u001b[39;00m\n\u001b[1;32m    677\u001b[0m \u001b[38;5;28mself\u001b[39m\u001b[38;5;241m.\u001b[39mstale \u001b[38;5;241m=\u001b[39m \u001b[38;5;28;01mTrue\u001b[39;00m\n",
      "File \u001b[0;32m/opt/conda/lib/python3.12/site-packages/matplotlib/image.py:643\u001b[0m, in \u001b[0;36m_ImageBase._normalize_image_array\u001b[0;34m(A)\u001b[0m\n\u001b[1;32m    641\u001b[0m     A \u001b[38;5;241m=\u001b[39m A\u001b[38;5;241m.\u001b[39msqueeze(\u001b[38;5;241m-\u001b[39m\u001b[38;5;241m1\u001b[39m)  \u001b[38;5;66;03m# If just (M, N, 1), assume scalar and apply colormap.\u001b[39;00m\n\u001b[1;32m    642\u001b[0m \u001b[38;5;28;01mif\u001b[39;00m \u001b[38;5;129;01mnot\u001b[39;00m (A\u001b[38;5;241m.\u001b[39mndim \u001b[38;5;241m==\u001b[39m \u001b[38;5;241m2\u001b[39m \u001b[38;5;129;01mor\u001b[39;00m A\u001b[38;5;241m.\u001b[39mndim \u001b[38;5;241m==\u001b[39m \u001b[38;5;241m3\u001b[39m \u001b[38;5;129;01mand\u001b[39;00m A\u001b[38;5;241m.\u001b[39mshape[\u001b[38;5;241m-\u001b[39m\u001b[38;5;241m1\u001b[39m] \u001b[38;5;129;01min\u001b[39;00m [\u001b[38;5;241m3\u001b[39m, \u001b[38;5;241m4\u001b[39m]):\n\u001b[0;32m--> 643\u001b[0m     \u001b[38;5;28;01mraise\u001b[39;00m \u001b[38;5;167;01mTypeError\u001b[39;00m(\u001b[38;5;124mf\u001b[39m\u001b[38;5;124m\"\u001b[39m\u001b[38;5;124mInvalid shape \u001b[39m\u001b[38;5;132;01m{\u001b[39;00mA\u001b[38;5;241m.\u001b[39mshape\u001b[38;5;132;01m}\u001b[39;00m\u001b[38;5;124m for image data\u001b[39m\u001b[38;5;124m\"\u001b[39m)\n\u001b[1;32m    644\u001b[0m \u001b[38;5;28;01mif\u001b[39;00m A\u001b[38;5;241m.\u001b[39mndim \u001b[38;5;241m==\u001b[39m \u001b[38;5;241m3\u001b[39m:\n\u001b[1;32m    645\u001b[0m     \u001b[38;5;66;03m# If the input data has values outside the valid range (after\u001b[39;00m\n\u001b[1;32m    646\u001b[0m     \u001b[38;5;66;03m# normalisation), we issue a warning and then clip X to the bounds\u001b[39;00m\n\u001b[1;32m    647\u001b[0m     \u001b[38;5;66;03m# - otherwise casting wraps extreme values, hiding outliers and\u001b[39;00m\n\u001b[1;32m    648\u001b[0m     \u001b[38;5;66;03m# making reliable interpretation impossible.\u001b[39;00m\n\u001b[1;32m    649\u001b[0m     high \u001b[38;5;241m=\u001b[39m \u001b[38;5;241m255\u001b[39m \u001b[38;5;28;01mif\u001b[39;00m np\u001b[38;5;241m.\u001b[39missubdtype(A\u001b[38;5;241m.\u001b[39mdtype, np\u001b[38;5;241m.\u001b[39minteger) \u001b[38;5;28;01melse\u001b[39;00m \u001b[38;5;241m1\u001b[39m\n",
      "\u001b[0;31mTypeError\u001b[0m: Invalid shape (239,) for image data"
     ]
    },
    {
     "data": {
      "image/png": "[encoded data removed]",
      "text/plain": [
       "<Figure size 1200x900 with 6 Axes>"
      ]
     },
     "metadata": {},
     "output_type": "display_data"
    }
   ],
   "source": [
    "\n",
    "n_lon = 239\n",
    "# Plot first 3 EOFs and their time series\n",
    "fig, axes = plt.subplots(3, 2, figsize=(12, 9))  # 3 rows, 2 columns\n",
    "\n",
    "\n",
    "for i in range(3):  # Plot first 3 EOFs and their time series\n",
    "    # EOF spatial pattern\n",
    "    eof_pattern = pca.components_[i].reshape(len(data_centered[0]))\n",
    "    im = axes[i, 0].imshow(eof_pattern, cmap='RdBu_r')\n",
    "    axes[i, 0].set_title(f'EOF {i+1} ({explained_variance[i]*100:.2f}% variance)')\n",
    "    fig.colorbar(im, ax=axes[i, 0])\n",
    "    \n",
    "    # Principal component time series\n",
    "    axes[i, 1].plot(transformed_data[:, i], label=f'PC {i+1}', color='b')\n",
    "    axes[i, 1].set_title(f'PC {i+1} Time Series')\n",
    "    axes[i, 1].legend()\n",
    "\n",
    "plt.tight_layout()\n",
    "plt.show()"
   ]
  },
  {
   "cell_type": "markdown",
   "id": "925c0a83-0242-4aa5-904f-fa39c4159d29",
   "metadata": {},
   "source": [
    ":::{tip} _Exercise 4:_ Physical interpretation\n",
    "What do you see in your plots? Try to identify signals in you EOF and PC time series plots. Discuss in your team what the physical meaning of the different signals in the first few modes could be.\n",
    ":::\n"
   ]
  },
  {
   "cell_type": "markdown",
   "id": "4d8210f2-e467-4584-a7d5-a106c77f95dc",
   "metadata": {},
   "source": [
    "_____\n",
    "\n",
    "(h-data-reconstruction)=\n",
    "# 3. Reconstruct the data from the dominant modes of EOF pattern and principal component time series"
   ]
  },
  {
   "cell_type": "markdown",
   "id": "76e2feff-5825-4fba-b4ab-041227ed22ec",
   "metadata": {},
   "source": [
    "\n",
    ":::{tip} _Exercise 5:_ Derive criteria for significance of modes from singular values \n",
    "For data reconstruction, only the dominant modes are used, so that most of the variance of the data is retained, but espressed in fewer basis functions (dimensionality reduction). This step also acts as a **filter** on the data.\n",
    "- Plot the singular values / variance explained for each mode. Can you guess from the curve which values might be containing signal?\n",
    "- Plot the explained variance cummulative. Another strategy is, to make sure to expalin a certain level of variance in the reconstruction, e.g. 90%. How does this compare to the significant number of modes you found from the previous plot?\n",
    "- For a more rigorous way to choose the modes, one possibility is to test if the time series are significantly different from white noise (unless you are very familiar with statistical tests, you can skip this for this homework).\n"
   ]
  },
  {
   "cell_type": "markdown",
   "id": "695de3d7-24b3-4275-ab2f-036bde433aab",
   "metadata": {},
   "source": [
    ":::{tip} _Exercise 6:_ Reconstruct the data with selected modes from the previous exercise\n",
    "Using the modes you selected above, reconstruct the data. In case you were not sure in your selection, test with different numbers of modes. Look at a few monthly snapshots and compare to the original data (e.g. plot the differences) what do you observe?\n",
    ":::"
   ]
  },
  {
   "cell_type": "markdown",
   "id": "5fc280a2-56dd-417f-8d96-4669a129bb26",
   "metadata": {},
   "source": [
    ":::{attention} Congratulations! \n",
    "You have completed the entire process of data analysis and data reconstruction with PCA on GRACE data until here. The following chapters and exercises look into adapting, refining, and optimising this process.\n",
    ":::"
   ]
  },
  {
   "cell_type": "markdown",
   "id": "b1db2c49-fa81-4bc5-99b8-a3e58e9d6b36",
   "metadata": {},
   "source": [
    "_____\n",
    "\n",
    "(h-gaps)=\n",
    "# 4. Gap handling"
   ]
  },
  {
   "cell_type": "markdown",
   "id": "13e1013a-f15f-42fb-adbc-0a630a0facc5",
   "metadata": {},
   "source": [
    ":::{tip} _Exercise 7:_ Explore different ways of handling gaps\n",
    "- There are differnet ways of handling gaps in the data before performing EOF analysis. In the exercises above, the missing months have just been left out. Another approach is to interpolate data to fill missing months. Please try this for shorter gaps and see how this effects your EOF analysis results. Plot your new EOFs and PC time series below.\n",
    "- Handling the gap between GRACE and GRACE-FO is more tricky. Try removing one more month, so that you have a gap of an entire year instead of 11 months. Does it make a difference? (plot EOFs and PCs again)\n",
    "- You might see now, that it makes sense to arrange you EOF and PC plots in compact way. Maybe refine you plot arrangement from above.\n",
    "- There are several scientific publications making use of EOF analysis to bridge the gap between GRACE and GRACE-FO. They often target the spherical harmonic coefficients (and using other GRACE solutions). But this works for our mascon data, too. Can you think of and sketch at leat one approach, how the gap between the two missions could be bridged by using EOF analysis?\n",
    ":::"
   ]
  },
  {
   "cell_type": "markdown",
   "id": "cd7ee890-4c23-4c1d-ac86-ce66f717cdb9",
   "metadata": {},
   "source": [
    "_____\n",
    "\n",
    "(h-regional)=\n",
    "# 5. EOF analysis of selected regions"
   ]
  },
  {
   "cell_type": "markdown",
   "id": "ecce7225-4904-408b-b549-87a2083dd3af",
   "metadata": {},
   "source": [
    ":::{tip} _Exercise 8:_ Perform EOF analysis of a region only\n",
    "- Select any region which you think might contain an interesting signal\n",
    "\n",
    "- EOF analysis of the continents only should lead to a more clear signal in the first modes -> try and compare the results\n",
    "\n",
    ":::"
   ]
  },
  {
   "cell_type": "markdown",
   "id": "bae42121-03b4-4c18-926a-281eb68051ad",
   "metadata": {},
   "source": [
    "_____\n",
    "\n",
    "(h-outlook-feedback)=\n",
    "# 6. Outlook and feedback"
   ]
  },
  {
   "cell_type": "markdown",
   "id": "04591702-e2c7-495a-94ce-9e7ef78d9c55",
   "metadata": {},
   "source": [
    "&#9989; Task:\n",
    ": Finally, I'd again really appreciate your feedback on this JupyterNotebook homework"
   ]
  },
  {
   "cell_type": "code",
   "execution_count": 2,
   "id": "01622415-dd5c-40d7-92f9-7561e6a667c3",
   "metadata": {
    "scrolled": true
   },
   "outputs": [
    {
     "data": {
      "text/html": [
       "\n",
       "        <iframe\n",
       "            width=\"640\"\n",
       "            height=\"1657\"\n",
       "            src=\"https://docs.google.com/forms/d/e/1FAIpQLSc2lg39Siu95lTva0OIIN6tVEAfTls-uAp0LNg-Wz7YZHH3VQ/viewform?embedded=true\"\n",
       "            frameborder=\"0\"\n",
       "            allowfullscreen\n",
       "            \n",
       "        ></iframe>\n",
       "        "
      ],
      "text/plain": [
       "<IPython.lib.display.IFrame at 0x7f2948535ac0>"
      ]
     },
     "execution_count": 2,
     "metadata": {},
     "output_type": "execute_result"
    }
   ],
   "source": [
    "from IPython.display import IFrame\n",
    "IFrame('https://docs.googlae.com/forms/d/e/1FAIpQLSc2lg39Siu95lTva0OIIN6tVEAfTls-uAp0LNg-Wz7YZHH3VQ/viewform?embedded=true', 640, 1657)"
   ]
  }
 ],
 "metadata": {
  "kernelspec": {
   "display_name": "Python 3 (ipykernel)",
   "language": "python",
   "name": "python3"
  },
  "language_info": {
   "codemirror_mode": {
    "name": "ipython",
    "version": 3
   },
   "file_extension": ".py",
   "mimetype": "text/x-python",
   "name": "python",
   "nbconvert_exporter": "python",
   "pygments_lexer": "ipython3",
   "version": "3.12.8"
  }
 },
 "nbformat": 4,
 "nbformat_minor": 5
}
